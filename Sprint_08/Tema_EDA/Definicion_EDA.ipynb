{
 "cells": [
  {
   "cell_type": "markdown",
   "metadata": {},
   "source": [
    "![imagen](./img/ejercicios.png)"
   ]
  },
  {
   "cell_type": "markdown",
   "metadata": {},
   "source": [
    "# INFORMACIÓN DEL PROYECTO"
   ]
  },
  {
   "cell_type": "markdown",
   "metadata": {},
   "source": [
    "### TÍTULO"
   ]
  },
  {
   "cell_type": "code",
   "execution_count": 1,
   "metadata": {},
   "outputs": [],
   "source": [
    "#Escribe el título del proyecto en Markdown\n",
    "titulo = \"El turismo en Andalucía en el año 2023\""
   ]
  },
  {
   "cell_type": "markdown",
   "metadata": {},
   "source": [
    "### TEMA"
   ]
  },
  {
   "cell_type": "code",
   "execution_count": 2,
   "metadata": {},
   "outputs": [],
   "source": [
    "# Describe brevemente el tema del proyecto en Markdown\n",
    "tema = \"Analizamos el turismo en Andalucía, tanto el nacional como el proveniente del extranjero, en todo el año 2023\""
   ]
  },
  {
   "cell_type": "markdown",
   "metadata": {},
   "source": [
    "### HIPÓTESIS"
   ]
  },
  {
   "cell_type": "markdown",
   "metadata": {},
   "source": [
    "Define aquí lo que será la hipótesis de tu proyecto.\n",
    "Deberás tener más de una, pero tu proyecto lo harás teniendo una principal hipótesis."
   ]
  },
  {
   "cell_type": "code",
   "execution_count": 3,
   "metadata": {},
   "outputs": [],
   "source": [
    "# Escribe tu hipótesis principal en Markdown\n",
    "hipotesis_1 = \"El turismo nacional deja más ganacias que el turismo extranjero\""
   ]
  },
  {
   "cell_type": "code",
   "execution_count": 4,
   "metadata": {},
   "outputs": [],
   "source": [
    "# Escribe más hipótesis si las hubiera en Markdown\n",
    "hipotesis_2 = \"El turismo nacional es de carácter 'cultural' o 'deportivo' y el extranjero es de carácter 'sol y playa'\"\n",
    "hipotesis_3 = \"Tenemos menos visitantes extranjeros de los países colindantes con respecto a países más lejanos\"\n",
    "hipotesis_4 = \"Los visitantes extranjeros de países colindantes vienen por estudios (erasmus)\"\n",
    "\n",
    "nota = \"También valoro la opción de ampliar el marco a más años para poder comprar e incluso poder ver como afecto la pandemia al turismo en Andalucía\""
   ]
  },
  {
   "cell_type": "markdown",
   "metadata": {},
   "source": [
    "## OBTENCIÓN DE LOS DATOS"
   ]
  },
  {
   "cell_type": "markdown",
   "metadata": {},
   "source": [
    "### DATASETS Y FUENTES ALTERNATIVAS DE DATOS"
   ]
  },
  {
   "cell_type": "markdown",
   "metadata": {},
   "source": [
    "Incluye aquí una vista del dataset o datasets de los que partirás para poder evaluar tu hipótesis. <br>\n",
    "También incluye el origen de estos datos y su fuente."
   ]
  },
  {
   "cell_type": "code",
   "execution_count": 5,
   "metadata": {},
   "outputs": [],
   "source": [
    "import pandas as pd\n",
    "\n",
    "# Guarda en variables los datasets y su fuente\n",
    "df_1 = pd.read_csv(\"./data/Gasto de los turistas internacionales según comunidad autónoma de destino principal.csv\", encoding = \"latin1\", sep = \";\")\n",
    "fuente_1 = \"INE: https://www.ine.es/jaxiT3/Datos.htm?t=10839\"\n",
    "\n",
    "df_2 = pd.read_csv(\"./data/Gasto de los turistas internacionales según país de residencia.csv\", encoding = \"latin1\", sep = \";\")\n",
    "fuente_2 = \"INE: https://www.ine.es/jaxiT3/Datos.htm?t=10838\"\n",
    "\n",
    "df_3 = pd.read_csv(\"./data/Gasto de los turistas internacionales según motivo principal del viaje.csv\", encoding = \"latin1\", sep = \";\")\n",
    "fuente_3 = \"INE: https://www.ine.es/jaxiT3/Datos.htm?t=23995\"\n",
    "\n",
    "df_4 = pd.read_csv(\"./data/Personas viajeras por edad, según destino y duración del viaje.csv\", encoding = \"latin1\", sep = \";\")\n",
    "fuente_4 = \"INE: https://www.ine.es/jaxiT3/Datos.htm?t=25756\"\n",
    "\n",
    "df_5 = pd.read_csv(\"./data/Viajes, pernoctaciones, duración media y gasto por destino principal (extranjero y comunidades autónomas).csv\", encoding = \"latin1\", sep = \";\")\n",
    "fuente_5 = \"INE: https://www.ine.es/jaxiT3/Datos.htm?t=24927\"\n",
    "\n",
    "df_6 = pd.read_csv(\"./data/Viajes, pernoctaciones, duración media y gasto por tipo de destino principal.csv\", encoding = \"latin1\", sep = \";\")\n",
    "fuente_6 = \"INE: https://www.ine.es/jaxiT3/Datos.htm?t=24919\""
   ]
  },
  {
   "cell_type": "markdown",
   "metadata": {},
   "source": [
    "Muestra mediante un head() los principales datasets con los que vas a trabajar"
   ]
  },
  {
   "cell_type": "code",
   "execution_count": 6,
   "metadata": {},
   "outputs": [
    {
     "data": {
      "text/html": [
       "<div>\n",
       "<style scoped>\n",
       "    .dataframe tbody tr th:only-of-type {\n",
       "        vertical-align: middle;\n",
       "    }\n",
       "\n",
       "    .dataframe tbody tr th {\n",
       "        vertical-align: top;\n",
       "    }\n",
       "\n",
       "    .dataframe thead th {\n",
       "        text-align: right;\n",
       "    }\n",
       "</style>\n",
       "<table border=\"1\" class=\"dataframe\">\n",
       "  <thead>\n",
       "    <tr style=\"text-align: right;\">\n",
       "      <th></th>\n",
       "      <th>Comunidades  autónomas</th>\n",
       "      <th>Gastos y duración media de los viajes</th>\n",
       "      <th>Tipo de dato</th>\n",
       "      <th>Periodo</th>\n",
       "      <th>Total</th>\n",
       "    </tr>\n",
       "  </thead>\n",
       "  <tbody>\n",
       "    <tr>\n",
       "      <th>0</th>\n",
       "      <td>01 Andalucía</td>\n",
       "      <td>Gasto total</td>\n",
       "      <td>Dato base</td>\n",
       "      <td>2023M12</td>\n",
       "      <td>882,21</td>\n",
       "    </tr>\n",
       "    <tr>\n",
       "      <th>1</th>\n",
       "      <td>01 Andalucía</td>\n",
       "      <td>Gasto total</td>\n",
       "      <td>Dato base</td>\n",
       "      <td>2023M11</td>\n",
       "      <td>920,55</td>\n",
       "    </tr>\n",
       "    <tr>\n",
       "      <th>2</th>\n",
       "      <td>01 Andalucía</td>\n",
       "      <td>Gasto total</td>\n",
       "      <td>Dato base</td>\n",
       "      <td>2023M10</td>\n",
       "      <td>1.499,58</td>\n",
       "    </tr>\n",
       "    <tr>\n",
       "      <th>3</th>\n",
       "      <td>01 Andalucía</td>\n",
       "      <td>Gasto total</td>\n",
       "      <td>Dato base</td>\n",
       "      <td>2023M09</td>\n",
       "      <td>1.625,73</td>\n",
       "    </tr>\n",
       "    <tr>\n",
       "      <th>4</th>\n",
       "      <td>01 Andalucía</td>\n",
       "      <td>Gasto total</td>\n",
       "      <td>Dato base</td>\n",
       "      <td>2023M08</td>\n",
       "      <td>1.975,34</td>\n",
       "    </tr>\n",
       "  </tbody>\n",
       "</table>\n",
       "</div>"
      ],
      "text/plain": [
       "  Comunidades  autónomas Gastos y duración media de los viajes Tipo de dato  \\\n",
       "0           01 Andalucía                           Gasto total    Dato base   \n",
       "1           01 Andalucía                           Gasto total    Dato base   \n",
       "2           01 Andalucía                           Gasto total    Dato base   \n",
       "3           01 Andalucía                           Gasto total    Dato base   \n",
       "4           01 Andalucía                           Gasto total    Dato base   \n",
       "\n",
       "   Periodo     Total  \n",
       "0  2023M12    882,21  \n",
       "1  2023M11    920,55  \n",
       "2  2023M10  1.499,58  \n",
       "3  2023M09  1.625,73  \n",
       "4  2023M08  1.975,34  "
      ]
     },
     "execution_count": 6,
     "metadata": {},
     "output_type": "execute_result"
    }
   ],
   "source": [
    "# Primer dataset\n",
    "df_1.head()"
   ]
  },
  {
   "cell_type": "code",
   "execution_count": 7,
   "metadata": {},
   "outputs": [
    {
     "data": {
      "text/html": [
       "<div>\n",
       "<style scoped>\n",
       "    .dataframe tbody tr th:only-of-type {\n",
       "        vertical-align: middle;\n",
       "    }\n",
       "\n",
       "    .dataframe tbody tr th {\n",
       "        vertical-align: top;\n",
       "    }\n",
       "\n",
       "    .dataframe thead th {\n",
       "        text-align: right;\n",
       "    }\n",
       "</style>\n",
       "<table border=\"1\" class=\"dataframe\">\n",
       "  <thead>\n",
       "    <tr style=\"text-align: right;\">\n",
       "      <th></th>\n",
       "      <th>País de residencia</th>\n",
       "      <th>Tipo de dato</th>\n",
       "      <th>Gastos y duración media de los viajes</th>\n",
       "      <th>Periodo</th>\n",
       "      <th>Total</th>\n",
       "    </tr>\n",
       "  </thead>\n",
       "  <tbody>\n",
       "    <tr>\n",
       "      <th>0</th>\n",
       "      <td>Reino Unido</td>\n",
       "      <td>Dato base</td>\n",
       "      <td>Gasto total</td>\n",
       "      <td>2023M12</td>\n",
       "      <td>1.091,47</td>\n",
       "    </tr>\n",
       "    <tr>\n",
       "      <th>1</th>\n",
       "      <td>Reino Unido</td>\n",
       "      <td>Dato base</td>\n",
       "      <td>Gasto total</td>\n",
       "      <td>2023M11</td>\n",
       "      <td>1.067,86</td>\n",
       "    </tr>\n",
       "    <tr>\n",
       "      <th>2</th>\n",
       "      <td>Reino Unido</td>\n",
       "      <td>Dato base</td>\n",
       "      <td>Gasto total</td>\n",
       "      <td>2023M10</td>\n",
       "      <td>1.927,88</td>\n",
       "    </tr>\n",
       "    <tr>\n",
       "      <th>3</th>\n",
       "      <td>Reino Unido</td>\n",
       "      <td>Dato base</td>\n",
       "      <td>Gasto total</td>\n",
       "      <td>2023M09</td>\n",
       "      <td>2.246,00</td>\n",
       "    </tr>\n",
       "    <tr>\n",
       "      <th>4</th>\n",
       "      <td>Reino Unido</td>\n",
       "      <td>Dato base</td>\n",
       "      <td>Gasto total</td>\n",
       "      <td>2023M08</td>\n",
       "      <td>2.713,63</td>\n",
       "    </tr>\n",
       "  </tbody>\n",
       "</table>\n",
       "</div>"
      ],
      "text/plain": [
       "  País de residencia Tipo de dato Gastos y duración media de los viajes  \\\n",
       "0        Reino Unido    Dato base                           Gasto total   \n",
       "1        Reino Unido    Dato base                           Gasto total   \n",
       "2        Reino Unido    Dato base                           Gasto total   \n",
       "3        Reino Unido    Dato base                           Gasto total   \n",
       "4        Reino Unido    Dato base                           Gasto total   \n",
       "\n",
       "   Periodo     Total  \n",
       "0  2023M12  1.091,47  \n",
       "1  2023M11  1.067,86  \n",
       "2  2023M10  1.927,88  \n",
       "3  2023M09  2.246,00  \n",
       "4  2023M08  2.713,63  "
      ]
     },
     "execution_count": 7,
     "metadata": {},
     "output_type": "execute_result"
    }
   ],
   "source": [
    "# Segundo dataset\n",
    "df_2.head()"
   ]
  },
  {
   "cell_type": "code",
   "execution_count": 8,
   "metadata": {},
   "outputs": [
    {
     "data": {
      "text/html": [
       "<div>\n",
       "<style scoped>\n",
       "    .dataframe tbody tr th:only-of-type {\n",
       "        vertical-align: middle;\n",
       "    }\n",
       "\n",
       "    .dataframe tbody tr th {\n",
       "        vertical-align: top;\n",
       "    }\n",
       "\n",
       "    .dataframe thead th {\n",
       "        text-align: right;\n",
       "    }\n",
       "</style>\n",
       "<table border=\"1\" class=\"dataframe\">\n",
       "  <thead>\n",
       "    <tr style=\"text-align: right;\">\n",
       "      <th></th>\n",
       "      <th>Motivo del viaje</th>\n",
       "      <th>Gastos y duración media de los viajes</th>\n",
       "      <th>Tipo de dato</th>\n",
       "      <th>Periodo</th>\n",
       "      <th>Total</th>\n",
       "    </tr>\n",
       "  </thead>\n",
       "  <tbody>\n",
       "    <tr>\n",
       "      <th>0</th>\n",
       "      <td>Negocio, motivos profesionales</td>\n",
       "      <td>Gasto total</td>\n",
       "      <td>Dato base</td>\n",
       "      <td>2023</td>\n",
       "      <td>6.452,46</td>\n",
       "    </tr>\n",
       "    <tr>\n",
       "      <th>1</th>\n",
       "      <td>Negocio, motivos profesionales</td>\n",
       "      <td>Gasto total</td>\n",
       "      <td>Tasa de variación anual</td>\n",
       "      <td>2023</td>\n",
       "      <td>17,99</td>\n",
       "    </tr>\n",
       "    <tr>\n",
       "      <th>2</th>\n",
       "      <td>Negocio, motivos profesionales</td>\n",
       "      <td>Gasto medio por persona</td>\n",
       "      <td>Dato base</td>\n",
       "      <td>2023</td>\n",
       "      <td>1.337</td>\n",
       "    </tr>\n",
       "    <tr>\n",
       "      <th>3</th>\n",
       "      <td>Negocio, motivos profesionales</td>\n",
       "      <td>Gasto medio por persona</td>\n",
       "      <td>Tasa de variación anual</td>\n",
       "      <td>2023</td>\n",
       "      <td>7,84</td>\n",
       "    </tr>\n",
       "    <tr>\n",
       "      <th>4</th>\n",
       "      <td>Negocio, motivos profesionales</td>\n",
       "      <td>Gasto medio diario por persona</td>\n",
       "      <td>Dato base</td>\n",
       "      <td>2023</td>\n",
       "      <td>216</td>\n",
       "    </tr>\n",
       "  </tbody>\n",
       "</table>\n",
       "</div>"
      ],
      "text/plain": [
       "                 Motivo del viaje Gastos y duración media de los viajes  \\\n",
       "0  Negocio, motivos profesionales                           Gasto total   \n",
       "1  Negocio, motivos profesionales                           Gasto total   \n",
       "2  Negocio, motivos profesionales               Gasto medio por persona   \n",
       "3  Negocio, motivos profesionales               Gasto medio por persona   \n",
       "4  Negocio, motivos profesionales        Gasto medio diario por persona   \n",
       "\n",
       "              Tipo de dato  Periodo     Total  \n",
       "0                Dato base     2023  6.452,46  \n",
       "1  Tasa de variación anual     2023     17,99  \n",
       "2                Dato base     2023     1.337  \n",
       "3  Tasa de variación anual     2023      7,84  \n",
       "4                Dato base     2023       216  "
      ]
     },
     "execution_count": 8,
     "metadata": {},
     "output_type": "execute_result"
    }
   ],
   "source": [
    "# Tercer dataset\n",
    "df_3.head()"
   ]
  },
  {
   "cell_type": "code",
   "execution_count": 9,
   "metadata": {},
   "outputs": [
    {
     "data": {
      "text/html": [
       "<div>\n",
       "<style scoped>\n",
       "    .dataframe tbody tr th:only-of-type {\n",
       "        vertical-align: middle;\n",
       "    }\n",
       "\n",
       "    .dataframe tbody tr th {\n",
       "        vertical-align: top;\n",
       "    }\n",
       "\n",
       "    .dataframe thead th {\n",
       "        text-align: right;\n",
       "    }\n",
       "</style>\n",
       "<table border=\"1\" class=\"dataframe\">\n",
       "  <thead>\n",
       "    <tr style=\"text-align: right;\">\n",
       "      <th></th>\n",
       "      <th>Edad</th>\n",
       "      <th>Duración</th>\n",
       "      <th>Destino</th>\n",
       "      <th>Tipo de dato</th>\n",
       "      <th>Periodo</th>\n",
       "      <th>Total</th>\n",
       "    </tr>\n",
       "  </thead>\n",
       "  <tbody>\n",
       "    <tr>\n",
       "      <th>0</th>\n",
       "      <td>De 15 a 24 años</td>\n",
       "      <td>De 1 a 3 noches</td>\n",
       "      <td>Solo España</td>\n",
       "      <td>Porcentaje sobre personas de la categoría</td>\n",
       "      <td>2023</td>\n",
       "      <td>NaN</td>\n",
       "    </tr>\n",
       "    <tr>\n",
       "      <th>1</th>\n",
       "      <td>De 15 a 24 años</td>\n",
       "      <td>De 1 a 3 noches</td>\n",
       "      <td>Solo España</td>\n",
       "      <td>Porcentaje sobre el total de viajeros</td>\n",
       "      <td>2023</td>\n",
       "      <td>NaN</td>\n",
       "    </tr>\n",
       "    <tr>\n",
       "      <th>2</th>\n",
       "      <td>De 15 a 24 años</td>\n",
       "      <td>De 4 o más noches</td>\n",
       "      <td>Solo España</td>\n",
       "      <td>Porcentaje sobre personas de la categoría</td>\n",
       "      <td>2023</td>\n",
       "      <td>NaN</td>\n",
       "    </tr>\n",
       "    <tr>\n",
       "      <th>3</th>\n",
       "      <td>De 15 a 24 años</td>\n",
       "      <td>De 4 o más noches</td>\n",
       "      <td>Solo España</td>\n",
       "      <td>Porcentaje sobre el total de viajeros</td>\n",
       "      <td>2023</td>\n",
       "      <td>NaN</td>\n",
       "    </tr>\n",
       "    <tr>\n",
       "      <th>4</th>\n",
       "      <td>De 25 a 34 años</td>\n",
       "      <td>De 1 a 3 noches</td>\n",
       "      <td>Solo España</td>\n",
       "      <td>Porcentaje sobre personas de la categoría</td>\n",
       "      <td>2023</td>\n",
       "      <td>NaN</td>\n",
       "    </tr>\n",
       "  </tbody>\n",
       "</table>\n",
       "</div>"
      ],
      "text/plain": [
       "              Edad           Duración      Destino  \\\n",
       "0  De 15 a 24 años    De 1 a 3 noches  Solo España   \n",
       "1  De 15 a 24 años    De 1 a 3 noches  Solo España   \n",
       "2  De 15 a 24 años  De 4 o más noches  Solo España   \n",
       "3  De 15 a 24 años  De 4 o más noches  Solo España   \n",
       "4  De 25 a 34 años    De 1 a 3 noches  Solo España   \n",
       "\n",
       "                                Tipo de dato  Periodo  Total  \n",
       "0  Porcentaje sobre personas de la categoría     2023    NaN  \n",
       "1     Porcentaje sobre el total de viajeros      2023    NaN  \n",
       "2  Porcentaje sobre personas de la categoría     2023    NaN  \n",
       "3     Porcentaje sobre el total de viajeros      2023    NaN  \n",
       "4  Porcentaje sobre personas de la categoría     2023    NaN  "
      ]
     },
     "execution_count": 9,
     "metadata": {},
     "output_type": "execute_result"
    }
   ],
   "source": [
    "# Cuarto dataset\n",
    "df_4.head()"
   ]
  },
  {
   "cell_type": "code",
   "execution_count": 10,
   "metadata": {},
   "outputs": [
    {
     "data": {
      "text/html": [
       "<div>\n",
       "<style scoped>\n",
       "    .dataframe tbody tr th:only-of-type {\n",
       "        vertical-align: middle;\n",
       "    }\n",
       "\n",
       "    .dataframe tbody tr th {\n",
       "        vertical-align: top;\n",
       "    }\n",
       "\n",
       "    .dataframe thead th {\n",
       "        text-align: right;\n",
       "    }\n",
       "</style>\n",
       "<table border=\"1\" class=\"dataframe\">\n",
       "  <thead>\n",
       "    <tr style=\"text-align: right;\">\n",
       "      <th></th>\n",
       "      <th>Destino</th>\n",
       "      <th>Concepto turístico</th>\n",
       "      <th>Tipo de dato</th>\n",
       "      <th>Periodo</th>\n",
       "      <th>Total</th>\n",
       "    </tr>\n",
       "  </thead>\n",
       "  <tbody>\n",
       "    <tr>\n",
       "      <th>0</th>\n",
       "      <td>01 Andalucía</td>\n",
       "      <td>Viajes</td>\n",
       "      <td>Valor absoluto</td>\n",
       "      <td>2023</td>\n",
       "      <td>31.796.819</td>\n",
       "    </tr>\n",
       "    <tr>\n",
       "      <th>1</th>\n",
       "      <td>01 Andalucía</td>\n",
       "      <td>Viajes</td>\n",
       "      <td>Distribución porcentual</td>\n",
       "      <td>2023</td>\n",
       "      <td>17,1</td>\n",
       "    </tr>\n",
       "    <tr>\n",
       "      <th>2</th>\n",
       "      <td>01 Andalucía</td>\n",
       "      <td>Viajes</td>\n",
       "      <td>Variación anual</td>\n",
       "      <td>2023</td>\n",
       "      <td>13,07</td>\n",
       "    </tr>\n",
       "    <tr>\n",
       "      <th>3</th>\n",
       "      <td>01 Andalucía</td>\n",
       "      <td>Duración media de los viajes</td>\n",
       "      <td>Valor absoluto</td>\n",
       "      <td>2023</td>\n",
       "      <td>4,13</td>\n",
       "    </tr>\n",
       "    <tr>\n",
       "      <th>4</th>\n",
       "      <td>01 Andalucía</td>\n",
       "      <td>Duración media de los viajes</td>\n",
       "      <td>Distribución porcentual</td>\n",
       "      <td>2023</td>\n",
       "      <td>NaN</td>\n",
       "    </tr>\n",
       "  </tbody>\n",
       "</table>\n",
       "</div>"
      ],
      "text/plain": [
       "        Destino            Concepto turístico             Tipo de dato  \\\n",
       "0  01 Andalucía                        Viajes           Valor absoluto   \n",
       "1  01 Andalucía                        Viajes  Distribución porcentual   \n",
       "2  01 Andalucía                        Viajes          Variación anual   \n",
       "3  01 Andalucía  Duración media de los viajes           Valor absoluto   \n",
       "4  01 Andalucía  Duración media de los viajes  Distribución porcentual   \n",
       "\n",
       "   Periodo       Total  \n",
       "0     2023  31.796.819  \n",
       "1     2023        17,1  \n",
       "2     2023       13,07  \n",
       "3     2023        4,13  \n",
       "4     2023         NaN  "
      ]
     },
     "execution_count": 10,
     "metadata": {},
     "output_type": "execute_result"
    }
   ],
   "source": [
    "# Quinto dataset\n",
    "df_5.head()"
   ]
  },
  {
   "cell_type": "code",
   "execution_count": 11,
   "metadata": {},
   "outputs": [
    {
     "data": {
      "text/html": [
       "<div>\n",
       "<style scoped>\n",
       "    .dataframe tbody tr th:only-of-type {\n",
       "        vertical-align: middle;\n",
       "    }\n",
       "\n",
       "    .dataframe tbody tr th {\n",
       "        vertical-align: top;\n",
       "    }\n",
       "\n",
       "    .dataframe thead th {\n",
       "        text-align: right;\n",
       "    }\n",
       "</style>\n",
       "<table border=\"1\" class=\"dataframe\">\n",
       "  <thead>\n",
       "    <tr style=\"text-align: right;\">\n",
       "      <th></th>\n",
       "      <th>Tipo de destino</th>\n",
       "      <th>Concepto turístico</th>\n",
       "      <th>Tipo de dato</th>\n",
       "      <th>Periodo</th>\n",
       "      <th>Total</th>\n",
       "    </tr>\n",
       "  </thead>\n",
       "  <tbody>\n",
       "    <tr>\n",
       "      <th>0</th>\n",
       "      <td>Dentro de la Comunidad Autónoma</td>\n",
       "      <td>Viajes</td>\n",
       "      <td>Valor absoluto</td>\n",
       "      <td>2023</td>\n",
       "      <td>81.330.805</td>\n",
       "    </tr>\n",
       "    <tr>\n",
       "      <th>1</th>\n",
       "      <td>Dentro de la Comunidad Autónoma</td>\n",
       "      <td>Viajes</td>\n",
       "      <td>Distribución porcentual</td>\n",
       "      <td>2023</td>\n",
       "      <td>43,8</td>\n",
       "    </tr>\n",
       "    <tr>\n",
       "      <th>2</th>\n",
       "      <td>Dentro de la Comunidad Autónoma</td>\n",
       "      <td>Viajes</td>\n",
       "      <td>Variación anual</td>\n",
       "      <td>2023</td>\n",
       "      <td>2,87</td>\n",
       "    </tr>\n",
       "    <tr>\n",
       "      <th>3</th>\n",
       "      <td>Dentro de la Comunidad Autónoma</td>\n",
       "      <td>Duración media de los viajes</td>\n",
       "      <td>Valor absoluto</td>\n",
       "      <td>2023</td>\n",
       "      <td>2,96</td>\n",
       "    </tr>\n",
       "    <tr>\n",
       "      <th>4</th>\n",
       "      <td>Dentro de la Comunidad Autónoma</td>\n",
       "      <td>Duración media de los viajes</td>\n",
       "      <td>Distribución porcentual</td>\n",
       "      <td>2023</td>\n",
       "      <td>NaN</td>\n",
       "    </tr>\n",
       "  </tbody>\n",
       "</table>\n",
       "</div>"
      ],
      "text/plain": [
       "                   Tipo de destino            Concepto turístico  \\\n",
       "0  Dentro de la Comunidad Autónoma                        Viajes   \n",
       "1  Dentro de la Comunidad Autónoma                        Viajes   \n",
       "2  Dentro de la Comunidad Autónoma                        Viajes   \n",
       "3  Dentro de la Comunidad Autónoma  Duración media de los viajes   \n",
       "4  Dentro de la Comunidad Autónoma  Duración media de los viajes   \n",
       "\n",
       "              Tipo de dato  Periodo       Total  \n",
       "0           Valor absoluto     2023  81.330.805  \n",
       "1  Distribución porcentual     2023        43,8  \n",
       "2          Variación anual     2023        2,87  \n",
       "3           Valor absoluto     2023        2,96  \n",
       "4  Distribución porcentual     2023         NaN  "
      ]
     },
     "execution_count": 11,
     "metadata": {},
     "output_type": "execute_result"
    }
   ],
   "source": [
    "# Sexto dataset\n",
    "df_6.head()"
   ]
  }
 ],
 "metadata": {
  "kernelspec": {
   "display_name": "Python 3.7.4 64-bit",
   "language": "python",
   "name": "python3"
  },
  "language_info": {
   "codemirror_mode": {
    "name": "ipython",
    "version": 3
   },
   "file_extension": ".py",
   "mimetype": "text/x-python",
   "name": "python",
   "nbconvert_exporter": "python",
   "pygments_lexer": "ipython3",
   "version": "3.10.11"
  },
  "orig_nbformat": 4,
  "vscode": {
   "interpreter": {
    "hash": "90139cb9a825bf3d63f6f6704e828dbd1ff7edbd4d0c6e906a71235d6efc74af"
   }
  }
 },
 "nbformat": 4,
 "nbformat_minor": 2
}
